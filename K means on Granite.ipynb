{
 "cells": [
  {
   "cell_type": "code",
   "execution_count": null,
   "id": "e29324a3",
   "metadata": {},
   "outputs": [],
   "source": [
    "import cv2 as cv \n",
    "import matplotlib.pyplot as plt\n",
    "from sklearn.metrics import silhouette_score"
   ]
  },
  {
   "cell_type": "code",
   "execution_count": null,
   "id": "84569fa7",
   "metadata": {},
   "outputs": [],
   "source": [
    "img2=cv.imread(\"Granite.jpg\")"
   ]
  },
  {
   "cell_type": "code",
   "execution_count": null,
   "id": "ffbd333e",
   "metadata": {},
   "outputs": [],
   "source": [
    "rgb_image2 = cv.cvtColor(img2, cv.COLOR_BGR2RGB)"
   ]
  },
  {
   "cell_type": "code",
   "execution_count": null,
   "id": "93b57ec7",
   "metadata": {},
   "outputs": [],
   "source": [
    "rgb_image2.shape"
   ]
  },
  {
   "cell_type": "code",
   "execution_count": null,
   "id": "72c328ae",
   "metadata": {},
   "outputs": [],
   "source": [
    "# Display the image\n",
    "cv.imshow('Image', rgb_image2)\n",
    "\n",
    "# Wait for a key press and then close the window\n",
    "cv.waitKey(0)\n",
    "cv.destroyAllWindows()"
   ]
  },
  {
   "cell_type": "code",
   "execution_count": null,
   "id": "9aaf1621",
   "metadata": {},
   "outputs": [],
   "source": [
    "# Get the dimensions of the original image\n",
    "height, width, channels = rgb_image2.shape\n",
    "\n",
    "# Reshape the image to 2D while keeping the number of channels intact\n",
    "reshaped_image = rgb_image2.reshape((height * width, channels))\n",
    "\n",
    "# Display the original and reshaped images\n",
    "cv.imshow('Original Image', rgb_image2)\n",
    "cv.imshow('Reshaped Image', reshaped_image)\n",
    "\n",
    "# Wait for a key press and then close the windows\n",
    "cv.waitKey(0)\n",
    "cv.destroyAllWindows()"
   ]
  },
  {
   "cell_type": "code",
   "execution_count": null,
   "id": "9219094a",
   "metadata": {},
   "outputs": [],
   "source": [
    "reshaped_image.shape"
   ]
  },
  {
   "cell_type": "code",
   "execution_count": null,
   "id": "fcaed1b8",
   "metadata": {},
   "outputs": [],
   "source": [
    "import cv2\n",
    "import numpy as np\n",
    "from sklearn.cluster import KMeans"
   ]
  },
  {
   "cell_type": "code",
   "execution_count": null,
   "id": "607ce3b0",
   "metadata": {},
   "outputs": [],
   "source": [
    "# Instantiate K-means clustering with three clusters and random state 42\n",
    "num_clusters = 3\n",
    "random_state = 42\n",
    "kmeans = KMeans(n_clusters=num_clusters, random_state=random_state)\n",
    "\n",
    "# Fit the K-means model to the reshaped image data\n",
    "kmeans.fit(reshaped_image)\n",
    "\n",
    "# Get the cluster centers (centroids)\n",
    "cluster_centers = kmeans.cluster_centers_\n",
    "\n",
    "# Convert cluster centers to unsigned integer values\n",
    "cluster_centers_uint = cluster_centers.astype(np.uint8)\n",
    "\n",
    "# Get the labels for each data point\n",
    "labels = kmeans.labels_\n",
    "\n",
    "# Assign each pixel to its corresponding cluster center\n",
    "segmented_image = cluster_centers_uint[labels]\n",
    "\n",
    "# Reshape the segmented image back to its original shape\n",
    "segmented_image = segmented_image.reshape((height, width, channels))\n",
    "\n",
    "# Convert the segmented image from BGR to RGB format for display\n",
    "segmented_image_rgb = cv2.cvtColor(segmented_image, cv2.COLOR_BGR2RGB)\n",
    "\n",
    "# Display the original and segmented images\n",
    "cv2.imshow('Original Image', img2)\n",
    "cv2.imshow('Segmented Image with Centroids', segmented_image_rgb)\n",
    "\n",
    "# Wait for a key press and then close the windows\n",
    "cv2.waitKey(0)\n",
    "cv2.destroyAllWindows()"
   ]
  },
  {
   "cell_type": "code",
   "execution_count": null,
   "id": "16be1400",
   "metadata": {},
   "outputs": [],
   "source": [
    "# Convert cluster centers to unsigned integer values\n",
    "cluster_centers_uint = cluster_centers.astype(np.uint8)"
   ]
  },
  {
   "cell_type": "code",
   "execution_count": null,
   "id": "4faa5802",
   "metadata": {},
   "outputs": [],
   "source": [
    "cluster_centers_uint"
   ]
  },
  {
   "cell_type": "code",
   "execution_count": null,
   "id": "e45910c2",
   "metadata": {},
   "outputs": [],
   "source": [
    "\n",
    "# Count the occurrences of each label\n",
    "label_counts = np.bincount(labels, minlength=num_clusters)\n",
    "# Calculate the percentage of pixels in each cluster\n",
    "percentages = (label_counts / len(labels)) * 100\n",
    "\n",
    "# Print the percentage of pixels in each cluster\n",
    "for cluster_idx, percentage in enumerate(percentages):\n",
    "    print(f\"Cluster {cluster_idx }: {percentage:.2f}%\")\n",
    "    \n",
    "# Display the original image\n",
    "cv2.imshow('Original Image', img2)\n",
    "\n",
    "# Wait for a key press and then close the windows\n",
    "cv2.waitKey(0)\n",
    "cv2.destroyAllWindows()"
   ]
  },
  {
   "cell_type": "code",
   "execution_count": null,
   "id": "c0127979",
   "metadata": {},
   "outputs": [],
   "source": [
    "rgb_values = np.array([[194, 191, 195], [ 36,  36,  38], [ 36,  36,  38]])\n",
    "\n",
    "\n",
    "# Create a pie chart with custom colors\n",
    "plt.figure(figsize=(6, 6))\n",
    "plt.pie(percentages, labels=[f\"Cluster {cluster_idx }\" for cluster_idx, percentage in enumerate(percentages)], autopct='%1.1f%%', startangle=140,\n",
    "        colors=[rgb_values[i] / 255 for i in range(len(rgb_values))])  # Divide by 255 to scale to [0, 1] for RGB\n",
    "plt.title('Relative Cluster Sizes')\n",
    "plt.axis('equal')  # Equal aspect ratio ensures that pie is drawn as a circle.\n",
    "plt.show()"
   ]
  },
  {
   "cell_type": "code",
   "execution_count": null,
   "id": "ca73776a",
   "metadata": {},
   "outputs": [],
   "source": [
    "import pandas as pd"
   ]
  },
  {
   "cell_type": "code",
   "execution_count": null,
   "id": "62901ec1",
   "metadata": {},
   "outputs": [],
   "source": [
    "# Calculate pixel counts for each cluster\n",
    "unique_labels, pixel_counts = np.unique(labels, return_counts=True)\n",
    "\n",
    "# Create a DataFrame with Cluster Index, RGB, and Pixel Count\n",
    "data = {'Cluster Index': unique_labels,\n",
    "        'R': rgb_values[unique_labels, 0],\n",
    "        'G': rgb_values[unique_labels, 1],\n",
    "        'B': rgb_values[unique_labels, 2],\n",
    "        'Pixel Count': pixel_counts}\n",
    "\n",
    "df = pd.DataFrame(data)\n",
    "\n",
    "# Display the DataFrame\n",
    "print(df)"
   ]
  },
  {
   "cell_type": "code",
   "execution_count": null,
   "id": "d2d728a6",
   "metadata": {},
   "outputs": [],
   "source": [
    "df"
   ]
  },
  {
   "cell_type": "code",
   "execution_count": null,
   "id": "9812f6c7",
   "metadata": {},
   "outputs": [],
   "source": [
    "df['Pixel Count'][1]"
   ]
  },
  {
   "cell_type": "code",
   "execution_count": null,
   "id": "5f04b02f",
   "metadata": {},
   "outputs": [],
   "source": [
    "per=df['Pixel Count'][1]/df['Pixel Count'].sum()"
   ]
  },
  {
   "cell_type": "code",
   "execution_count": null,
   "id": "e1426ca5",
   "metadata": {},
   "outputs": [],
   "source": [
    "per"
   ]
  },
  {
   "cell_type": "code",
   "execution_count": null,
   "id": "c60b1e7b",
   "metadata": {},
   "outputs": [],
   "source": [
    "import cv2\n",
    "import numpy as np\n",
    "import matplotlib.pyplot as plt\n",
    "from sklearn.cluster import KMeans\n",
    "\n",
    "\n",
    "\n",
    "# Calculate within-cluster sum of squares (WCSS) for different numbers of clusters\n",
    "wcss = []\n",
    "max_clusters = 15 # You can adjust this range as needed\n",
    "for n_clusters in range(1, max_clusters + 1):\n",
    "    kmeans = KMeans(n_clusters=n_clusters, random_state=42)\n",
    "    kmeans.fit(reshaped_image)\n",
    "    wcss.append(kmeans.inertia_)\n",
    "\n",
    "# Plot the elbow curve\n",
    "plt.plot(range(1, max_clusters + 1), wcss, marker='o')\n",
    "plt.title('Elbow Method for Optimal Number of Clusters')\n",
    "plt.xlabel('Number of Clusters')\n",
    "plt.ylabel('WCSS')\n",
    "plt.show()\n"
   ]
  },
  {
   "cell_type": "code",
   "execution_count": null,
   "id": "8f526fdb",
   "metadata": {},
   "outputs": [],
   "source": [
    "# Instantiate K-means clustering with three clusters and random state 42\n",
    "num_clusters = 2\n",
    "random_state = 42\n",
    "kmeans = KMeans(n_clusters=num_clusters, random_state=random_state)\n",
    "\n",
    "# Fit the K-means model to the reshaped image data\n",
    "kmeans.fit(reshaped_image)\n",
    "\n",
    "# Get the cluster centers (centroids)\n",
    "cluster_centers = kmeans.cluster_centers_\n",
    "\n",
    "# Convert cluster centers to unsigned integer values\n",
    "cluster_centers_uint = cluster_centers.astype(np.uint8)\n",
    "\n",
    "# Get the labels for each data point\n",
    "labels = kmeans.labels_\n",
    "\n",
    "# Assign each pixel to its corresponding cluster center\n",
    "segmented_image = cluster_centers_uint[labels]\n",
    "\n",
    "# Reshape the segmented image back to its original shape\n",
    "segmented_image = segmented_image.reshape((height, width, channels))\n",
    "\n",
    "# Convert the segmented image from BGR to RGB format for display\n",
    "segmented_image_rgb = cv2.cvtColor(segmented_image, cv2.COLOR_BGR2RGB)\n",
    "\n",
    "# Display the original and segmented images\n",
    "cv2.imshow('Original Image', img2)\n",
    "cv2.imshow('Segmented Image with Centroids', segmented_image_rgb)\n",
    "\n",
    "# Wait for a key press and then close the windows\n",
    "cv2.waitKey(0)\n",
    "cv2.destroyAllWindows()"
   ]
  },
  {
   "cell_type": "code",
   "execution_count": null,
   "id": "2bba434d",
   "metadata": {},
   "outputs": [],
   "source": [
    "# Convert cluster centers to unsigned integer values\n",
    "cluster_centers_uint = cluster_centers.astype(np.uint8)"
   ]
  },
  {
   "cell_type": "code",
   "execution_count": null,
   "id": "0c086ed9",
   "metadata": {},
   "outputs": [],
   "source": [
    "cluster_centers_uint"
   ]
  },
  {
   "cell_type": "code",
   "execution_count": null,
   "id": "2ea23bd4",
   "metadata": {},
   "outputs": [],
   "source": [
    "\n",
    "# Count the occurrences of each label\n",
    "label_counts = np.bincount(labels, minlength=num_clusters)\n",
    "# Calculate the percentage of pixels in each cluster\n",
    "percentages = (label_counts / len(labels)) * 100\n",
    "\n",
    "# Print the percentage of pixels in each cluster\n",
    "for cluster_idx, percentage in enumerate(percentages):\n",
    "    print(f\"Cluster {cluster_idx }: {percentage:.2f}%\")\n",
    "    \n",
    "# Display the original image\n",
    "cv2.imshow('Original Image', img2)\n",
    "\n",
    "# Wait for a key press and then close the windows\n",
    "cv2.waitKey(0)\n",
    "cv2.destroyAllWindows()"
   ]
  },
  {
   "cell_type": "code",
   "execution_count": null,
   "id": "6ca5009f",
   "metadata": {},
   "outputs": [],
   "source": [
    "rgb_values = np.array([[194, 191, 195],  [60,  60,  61]])\n",
    "\n",
    "\n",
    "# Create a pie chart with custom colors\n",
    "plt.figure(figsize=(6, 6))\n",
    "plt.pie(percentages, labels=[f\"Cluster {cluster_idx }\" for cluster_idx, percentage in enumerate(percentages)], autopct='%1.1f%%', startangle=140,\n",
    "        colors=[cluster_centers_uint[i] / 255 for i in range(len(rgb_values))])  # Divide by 255 to scale to [0, 1] for RGB\n",
    "plt.title('Relative Cluster Sizes')\n",
    "plt.axis('equal')  # Equal aspect ratio ensures that pie is drawn as a circle.\n",
    "plt.show()"
   ]
  },
  {
   "cell_type": "code",
   "execution_count": null,
   "id": "f3d403d7",
   "metadata": {},
   "outputs": [],
   "source": [
    "# Calculate pixel counts for each cluster\n",
    "unique_labels, pixel_counts = np.unique(labels, return_counts=True)\n",
    "\n",
    "# Create a DataFrame with Cluster Index, RGB, and Pixel Count\n",
    "data = {'Cluster Index': unique_labels,\n",
    "        'R': rgb_values[unique_labels, 0],\n",
    "        'G': rgb_values[unique_labels, 1],\n",
    "        'B': rgb_values[unique_labels, 2],\n",
    "        'Pixel Count': pixel_counts}\n",
    "\n",
    "df = pd.DataFrame(data)\n",
    "\n",
    "# Display the DataFrame\n",
    "print(df)"
   ]
  },
  {
   "cell_type": "code",
   "execution_count": null,
   "id": "5271ebd6",
   "metadata": {},
   "outputs": [],
   "source": [
    "per=df['Pixel Count'][1]/df['Pixel Count'].sum()"
   ]
  },
  {
   "cell_type": "code",
   "execution_count": null,
   "id": "122a7438",
   "metadata": {},
   "outputs": [],
   "source": [
    "per"
   ]
  },
  {
   "cell_type": "code",
   "execution_count": null,
   "id": "efb907c4",
   "metadata": {},
   "outputs": [],
   "source": [
    "# Instantiate K-means clustering with three clusters and random state 42\n",
    "num_clusters = 4\n",
    "random_state = 42\n",
    "kmeans = KMeans(n_clusters=num_clusters, random_state=random_state)\n",
    "\n",
    "# Fit the K-means model to the reshaped image data\n",
    "kmeans.fit(reshaped_image)\n",
    "\n",
    "# Get the cluster centers (centroids)\n",
    "cluster_centers = kmeans.cluster_centers_\n",
    "\n",
    "# Convert cluster centers to unsigned integer values\n",
    "cluster_centers_uint = cluster_centers.astype(np.uint8)\n",
    "\n",
    "# Get the labels for each data point\n",
    "labels = kmeans.labels_\n",
    "\n",
    "# Assign each pixel to its corresponding cluster center\n",
    "segmented_image = cluster_centers_uint[labels]\n",
    "\n",
    "# Reshape the segmented image back to its original shape\n",
    "segmented_image = segmented_image.reshape((height, width, channels))\n",
    "\n",
    "# Convert the segmented image from BGR to RGB format for display\n",
    "segmented_image_rgb = cv2.cvtColor(segmented_image, cv2.COLOR_BGR2RGB)\n",
    "\n",
    "# Display the original and segmented images\n",
    "cv2.imshow('Original Image', img2)\n",
    "cv2.imshow('Segmented Image with Centroids', segmented_image_rgb)\n",
    "\n",
    "# Wait for a key press and then close the windows\n",
    "cv2.waitKey(0)\n",
    "cv2.destroyAllWindows()"
   ]
  },
  {
   "cell_type": "code",
   "execution_count": null,
   "id": "54700abe",
   "metadata": {},
   "outputs": [],
   "source": [
    "# Convert cluster centers to unsigned integer values\n",
    "cluster_centers_uint = cluster_centers.astype(np.uint8)"
   ]
  },
  {
   "cell_type": "code",
   "execution_count": null,
   "id": "8e999d4f",
   "metadata": {},
   "outputs": [],
   "source": [
    "cluster_centers_uint"
   ]
  },
  {
   "cell_type": "code",
   "execution_count": null,
   "id": "7aba8446",
   "metadata": {},
   "outputs": [],
   "source": [
    "\n",
    "# Count the occurrences of each label\n",
    "label_counts = np.bincount(labels, minlength=num_clusters)\n",
    "# Calculate the percentage of pixels in each cluster\n",
    "percentages = (label_counts / len(labels)) * 100\n",
    "\n",
    "# Print the percentage of pixels in each cluster\n",
    "for cluster_idx, percentage in enumerate(percentages):\n",
    "    print(f\"Cluster {cluster_idx }: {percentage:.2f}%\")\n",
    "    \n",
    "# Display the original image\n",
    "cv2.imshow('Original Image', img2)\n",
    "\n",
    "# Wait for a key press and then close the windows\n",
    "cv2.waitKey(0)\n",
    "cv2.destroyAllWindows()"
   ]
  },
  {
   "cell_type": "code",
   "execution_count": null,
   "id": "b2cd815b",
   "metadata": {},
   "outputs": [],
   "source": [
    "rgb_values = np.array([[194, 191, 195],  [60,  60,  61],[ 99,  98,  98],[158, 156, 159]])\n",
    "# Create a pie chart with custom colors\n",
    "plt.figure(figsize=(6, 6))\n",
    "plt.pie(percentages, labels=[f\"Cluster {cluster_idx }\" for cluster_idx, percentage in enumerate(percentages)], autopct='%1.1f%%', startangle=140,\n",
    "        colors=[cluster_centers_uint[i] / 255 for i in range(len(rgb_values))])  # Divide by 255 to scale to [0, 1] for RGB\n",
    "plt.title('Relative Cluster Sizes')\n",
    "plt.axis('equal')  # Equal aspect ratio ensures that pie is drawn as a circle.\n",
    "plt.show()"
   ]
  },
  {
   "cell_type": "code",
   "execution_count": null,
   "id": "6047a6ce",
   "metadata": {},
   "outputs": [],
   "source": [
    "# Calculate pixel counts for each cluster\n",
    "unique_labels, pixel_counts = np.unique(labels, return_counts=True)\n",
    "\n",
    "# Create a DataFrame with Cluster Index, RGB, and Pixel Count\n",
    "data = {'Cluster Index': unique_labels,\n",
    "        'R': rgb_values[unique_labels, 0],\n",
    "        'G': rgb_values[unique_labels, 1],\n",
    "        'B': rgb_values[unique_labels, 2],\n",
    "        'Pixel Count': pixel_counts}\n",
    "\n",
    "df = pd.DataFrame(data)\n",
    "\n",
    "# Display the DataFrame\n",
    "print(df)"
   ]
  },
  {
   "cell_type": "code",
   "execution_count": null,
   "id": "026a9c21",
   "metadata": {},
   "outputs": [],
   "source": [
    "per=df['Pixel Count'][1]/df['Pixel Count'].sum()"
   ]
  },
  {
   "cell_type": "code",
   "execution_count": null,
   "id": "d87aa8f5",
   "metadata": {},
   "outputs": [],
   "source": [
    "Areaoflake=200000*per"
   ]
  },
  {
   "cell_type": "code",
   "execution_count": null,
   "id": "2fec359c",
   "metadata": {},
   "outputs": [],
   "source": [
    "Areaoflake"
   ]
  },
  {
   "cell_type": "code",
   "execution_count": null,
   "id": "95fa5abd",
   "metadata": {},
   "outputs": [],
   "source": [
    "\n",
    "# Calculate silhouette scores for different numbers of clusters\n",
    "n_clusters_range = range(2, 6)  # Try different numbers of clusters\n",
    "silhouette_scores = []\n",
    "\n",
    "for n_clusters in n_clusters_range:\n",
    "    print(n_clusters)\n",
    "    kmeans = KMeans(n_clusters=n_clusters, random_state=42)  \n",
    "    cluster_labels = kmeans.fit_predict(reshaped_image)  # Make sure reshaped_image is defined correctly\n",
    "    silhouette_avg = silhouette_score(reshaped_image, cluster_labels)\n",
    "    silhouette_scores.append(silhouette_avg)\n",
    "\n",
    "# Create a silhouette plot\n",
    "plt.plot(n_clusters_range, silhouette_scores, marker='o')\n",
    "plt.title('Silhouette Plot for Optimal Number of Clusters')\n",
    "plt.xlabel('Number of Clusters')\n",
    "plt.ylabel('Average Silhouette Score')\n",
    "\n",
    "# Add a legend with labels corresponding to the number of clusters\n",
    "plt.legend(['THA076BEI020/039 - Lake Image'])\n",
    "\n",
    "plt.show()"
   ]
  },
  {
   "cell_type": "code",
   "execution_count": null,
   "id": "cb1db67e",
   "metadata": {},
   "outputs": [],
   "source": []
  },
  {
   "cell_type": "code",
   "execution_count": null,
   "id": "47c73a63",
   "metadata": {},
   "outputs": [],
   "source": []
  },
  {
   "cell_type": "code",
   "execution_count": null,
   "id": "dc6c2ceb",
   "metadata": {},
   "outputs": [],
   "source": []
  },
  {
   "cell_type": "code",
   "execution_count": null,
   "id": "07cc7c5b",
   "metadata": {},
   "outputs": [],
   "source": []
  }
 ],
 "metadata": {
  "kernelspec": {
   "display_name": "Python 3 (ipykernel)",
   "language": "python",
   "name": "python3"
  },
  "language_info": {
   "codemirror_mode": {
    "name": "ipython",
    "version": 3
   },
   "file_extension": ".py",
   "mimetype": "text/x-python",
   "name": "python",
   "nbconvert_exporter": "python",
   "pygments_lexer": "ipython3",
   "version": "3.10.9"
  }
 },
 "nbformat": 4,
 "nbformat_minor": 5
}
